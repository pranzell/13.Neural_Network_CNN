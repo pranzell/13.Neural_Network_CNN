{
 "cells": [
  {
   "cell_type": "markdown",
   "metadata": {},
   "source": [
    "# Introduction to CNNs"
   ]
  },
  {
   "cell_type": "markdown",
   "metadata": {},
   "source": [
    "## What is CNN ?\n",
    "\n",
    "\n",
    "#### A CNN is a neural network that typically contains several types of layers, which includes :-\n",
    "\n",
    "* convolutional layer \n",
    "* pooling layer, and \n",
    "* activation layer."
   ]
  },
  {
   "cell_type": "markdown",
   "metadata": {},
   "source": [
    "## Convolutional Layer\n",
    "\n",
    "* To understand what a CNN is, you need to understand how convolutions work. \n",
    "\n",
    "* Imagine you have an image represented as a 5x5 matrix of values, and you take a 3x3 matrix and slide that 3x3 window around the image. \n",
    "\n",
    "* At each position the 3x3 visits, you matrix multiply the values of your 3x3 window by the values in the image that are currently being covered by the window. \n",
    "\n",
    "* This results in a single number the represents all the values in that window of the image. \n",
    "\n",
    "Here’s a gif for clarity:"
   ]
  },
  {
   "cell_type": "markdown",
   "metadata": {},
   "source": [
    "![Conv Gif](./conv.gif)"
   ]
  },
  {
   "cell_type": "markdown",
   "metadata": {},
   "source": [
    "## Level - 1 - Code the Convolutional Layer\n"
   ]
  },
  {
   "cell_type": "markdown",
   "metadata": {},
   "source": [
    "![Detailed Conv Gif](./conv_detailed.gif)"
   ]
  },
  {
   "cell_type": "markdown",
   "metadata": {},
   "source": [
    "### Question 1"
   ]
  },
  {
   "cell_type": "code",
   "execution_count": 2,
   "metadata": {
    "collapsed": true
   },
   "outputs": [],
   "source": [
    "# Write a function which does the convolution.\n",
    "# Code for a 3d Matrix\n",
    "# Before writing out code, write function header with parameters and get it reviewed by Mentors"
   ]
  },
  {
   "cell_type": "code",
   "execution_count": 3,
   "metadata": {
    "collapsed": true
   },
   "outputs": [],
   "source": [
    "import numpy as np\n",
    "import pandas as pd\n",
    "import random"
   ]
  },
  {
   "cell_type": "code",
   "execution_count": 4,
   "metadata": {
    "collapsed": true
   },
   "outputs": [],
   "source": [
    "image = np.random.randint(low = 0, high = 3, size =(2,3,7,7))"
   ]
  },
  {
   "cell_type": "code",
   "execution_count": 5,
   "metadata": {
    "collapsed": true
   },
   "outputs": [],
   "source": [
    "filters = np.random.randint(low = -1, high = 2, size =(2,3,3,3))"
   ]
  },
  {
   "cell_type": "code",
   "execution_count": 6,
   "metadata": {
    "collapsed": true
   },
   "outputs": [],
   "source": [
    "bias = np.random.randint(low=0, high = 2, size = (len(filters)))"
   ]
  },
  {
   "cell_type": "code",
   "execution_count": 7,
   "metadata": {},
   "outputs": [
    {
     "data": {
      "text/plain": [
       "array([[[[0, 1, 0, 0, 1, 1, 0],\n",
       "         [2, 1, 0, 0, 1, 0, 2],\n",
       "         [1, 0, 2, 0, 2, 0, 1],\n",
       "         [0, 0, 1, 2, 0, 0, 0],\n",
       "         [1, 0, 2, 0, 0, 1, 2],\n",
       "         [1, 2, 1, 2, 0, 1, 0],\n",
       "         [1, 1, 1, 2, 1, 1, 0]],\n",
       "\n",
       "        [[2, 1, 2, 2, 0, 0, 0],\n",
       "         [2, 0, 1, 2, 1, 1, 2],\n",
       "         [2, 0, 0, 2, 1, 0, 2],\n",
       "         [0, 0, 0, 2, 0, 1, 0],\n",
       "         [0, 1, 1, 2, 0, 2, 1],\n",
       "         [0, 2, 2, 2, 0, 1, 1],\n",
       "         [0, 1, 1, 0, 1, 1, 1]],\n",
       "\n",
       "        [[1, 1, 0, 0, 0, 2, 0],\n",
       "         [0, 2, 2, 0, 2, 1, 1],\n",
       "         [1, 0, 0, 0, 1, 2, 0],\n",
       "         [2, 2, 2, 2, 0, 0, 1],\n",
       "         [1, 2, 0, 1, 0, 0, 1],\n",
       "         [1, 1, 2, 0, 2, 0, 1],\n",
       "         [2, 1, 1, 1, 1, 1, 1]]],\n",
       "\n",
       "\n",
       "       [[[0, 0, 2, 0, 0, 1, 1],\n",
       "         [0, 2, 2, 0, 0, 2, 2],\n",
       "         [2, 1, 1, 0, 0, 0, 0],\n",
       "         [2, 2, 1, 2, 1, 2, 1],\n",
       "         [0, 1, 2, 1, 0, 0, 1],\n",
       "         [0, 2, 2, 1, 1, 1, 1],\n",
       "         [1, 1, 1, 1, 1, 2, 1]],\n",
       "\n",
       "        [[0, 0, 0, 2, 1, 2, 0],\n",
       "         [1, 2, 0, 0, 2, 1, 2],\n",
       "         [0, 2, 2, 0, 1, 2, 0],\n",
       "         [1, 0, 2, 1, 2, 1, 2],\n",
       "         [1, 1, 2, 0, 0, 1, 2],\n",
       "         [0, 2, 1, 1, 2, 1, 0],\n",
       "         [1, 1, 1, 2, 2, 0, 0]],\n",
       "\n",
       "        [[2, 0, 1, 2, 1, 0, 1],\n",
       "         [0, 1, 2, 2, 1, 2, 1],\n",
       "         [0, 2, 0, 1, 0, 2, 2],\n",
       "         [1, 2, 0, 1, 0, 1, 1],\n",
       "         [0, 0, 1, 1, 1, 2, 0],\n",
       "         [0, 1, 2, 0, 2, 0, 1],\n",
       "         [0, 1, 1, 1, 2, 2, 1]]]])"
      ]
     },
     "execution_count": 7,
     "metadata": {},
     "output_type": "execute_result"
    }
   ],
   "source": [
    "image"
   ]
  },
  {
   "cell_type": "code",
   "execution_count": 8,
   "metadata": {},
   "outputs": [
    {
     "data": {
      "text/plain": [
       "array([[[[-1, -1,  0],\n",
       "         [ 0,  0, -1],\n",
       "         [ 0,  1,  0]],\n",
       "\n",
       "        [[ 0, -1,  1],\n",
       "         [ 1,  1,  0],\n",
       "         [ 0, -1, -1]],\n",
       "\n",
       "        [[-1,  0,  0],\n",
       "         [ 0,  0, -1],\n",
       "         [ 0, -1, -1]]],\n",
       "\n",
       "\n",
       "       [[[ 1,  1,  0],\n",
       "         [ 1,  1, -1],\n",
       "         [-1,  1,  1]],\n",
       "\n",
       "        [[ 1,  0,  0],\n",
       "         [ 0,  0, -1],\n",
       "         [-1, -1,  0]],\n",
       "\n",
       "        [[-1,  1,  1],\n",
       "         [ 0,  1, -1],\n",
       "         [ 1,  1, -1]]]])"
      ]
     },
     "execution_count": 8,
     "metadata": {},
     "output_type": "execute_result"
    }
   ],
   "source": [
    "filters"
   ]
  },
  {
   "cell_type": "markdown",
   "metadata": {},
   "source": [
    "----\n",
    "\n",
    "**KEYWORDS**\n",
    "- Image = 4D Matrix: Collection of 'n' Sub-Images(3xnxn)\n",
    "- Sub-Image = Set of 3 mini-images (e.g. R,G,B) \n",
    "- mini-Image = Set of many mini-patches within a sub-image (3x3 Matrix)\n",
    "\n",
    "- Filters = 4D Matrix: Collection of 'm' Sub-Filters(3xnxn)\n",
    "- Sub-Filter = Set of 3 mini-filters (3x 3x3)\n",
    "- Mini-Filter = Set of many mini-filters within a sub-filter(3x3 Matrix)\n",
    "\n",
    "----"
   ]
  },
  {
   "cell_type": "code",
   "execution_count": 9,
   "metadata": {
    "collapsed": true
   },
   "outputs": [],
   "source": [
    "#  Accepts a Given sub-image (e.g. Image[0][0])\n",
    "## - Returns all possible stride counts with output matrix size\n",
    "\n",
    "def possible_StrideValues_OutputSizeValues(image):\n",
    "    width = len(image[0])\n",
    "    stride = 1\n",
    "    stride_form = []\n",
    "    while stride:\n",
    "        x = [i for i in range(1,width-1,stride)]    ## Gives possible iterations for a given stride\n",
    "        if x[len(x)-1] == width-2:\n",
    "            count_loop = len(x)                     ## Count of possible iterations for traversal = Output Size\n",
    "            stride_form.append([stride,len(x)])\n",
    "        else:\n",
    "            return stride_form\n",
    "        \n",
    "        stride += 1"
   ]
  },
  {
   "cell_type": "code",
   "execution_count": 10,
   "metadata": {
    "collapsed": true
   },
   "outputs": [],
   "source": [
    "#  Accepts a Given sub-image and Given stride count\n",
    "## - Returns the size of the output matrix\n",
    "\n",
    "def Output_Size(image, stride):\n",
    "        possible_outputs = possible_StrideValues_OutputSizeValues(image)\n",
    "        for possible_stride in possible_outputs:\n",
    "            if possible_stride[0] == stride:\n",
    "                return possible_stride[1]"
   ]
  },
  {
   "cell_type": "code",
   "execution_count": 11,
   "metadata": {
    "collapsed": true
   },
   "outputs": [],
   "source": [
    "def Traversal_Counter(width, filtration_size, stride):\n",
    "    Count = 0\n",
    "    for i in range(1,width,stride):\n",
    "        Count += 1\n",
    "        if(i == (width-filtration_size+1)):\n",
    "            break        \n",
    "    return Count"
   ]
  },
  {
   "cell_type": "code",
   "execution_count": 12,
   "metadata": {
    "collapsed": true
   },
   "outputs": [],
   "source": [
    "#  Accepts a sub-image and stride count\n",
    "## - Extracts mini-images(9 images, all 3x3 matrices) from a sub-image(e.g. image[0][0])\n",
    "\n",
    "def mini_image(image, filteration_size, stride):    \n",
    "    \n",
    "    width = len(image[0])\n",
    "    sub_image = []\n",
    "    ROW = 0\n",
    "    COL=0\n",
    "    \n",
    "    Traversal_Count = Traversal_Counter(width, filteration_size, stride)\n",
    "    \n",
    "    for vertical_traversal in range(Traversal_Count):\n",
    "        for horizontal_traversal in range(Traversal_Count):     \n",
    "            \n",
    "            sub_image.append(image[ROW:ROW+filteration_size, COL:COL+filteration_size]) \n",
    "            COL += stride\n",
    "        COL =0\n",
    "        ROW+=stride\n",
    "        \n",
    "    return sub_image"
   ]
  },
  {
   "cell_type": "code",
   "execution_count": 13,
   "metadata": {
    "collapsed": true
   },
   "outputs": [],
   "source": [
    "#  Accepts a sub-image, stride count and a sub-filter\n",
    "##  - Multiplies each mini-image of a sub-image with mini-filter of sub-filter\n",
    "\n",
    "def image_patching(image, stride, filters):\n",
    "    \n",
    "    filteration_size = len(filters[0])\n",
    "    \n",
    "    list_mini_images = mini_image(image, filteration_size, stride) \n",
    "    \n",
    "    list_of_values = []\n",
    "    Filter_Image_multiply = []\n",
    "    \n",
    "    for each_mini_image in list_mini_images:\n",
    "        list_of_values.append(mul(each_mini_image, filters))\n",
    "    \n",
    "    output_size = int(np.sqrt(len(list_of_values)))\n",
    "    \n",
    "    for each_value in range(0,len(list_of_values), output_size):\n",
    "        Filter_Image_multiply.append([value for value in list_of_values[each_value:each_value+int(output_size)]])\n",
    "    \n",
    "    return Filter_Image_multiply"
   ]
  },
  {
   "cell_type": "code",
   "execution_count": 14,
   "metadata": {
    "collapsed": true
   },
   "outputs": [],
   "source": [
    "#  Accepts a mini-image of a sub-image and a mini-filter of a sub-filter\n",
    "## - Multiplies mini-image and mini-filter\n",
    "\n",
    "def mul(mini_image, filters):\n",
    "    mul_matrix = mini_image*filters\n",
    "    return np.sum(mul_matrix)"
   ]
  },
  {
   "cell_type": "code",
   "execution_count": 15,
   "metadata": {
    "collapsed": true
   },
   "outputs": [],
   "source": [
    "def bias_addition(Output_Per_Set):\n",
    "    Output = []\n",
    "    \n",
    "    for each_bias_value, each_SubOutput_value in zip(bias, Output_Per_Set):\n",
    "        Output.append(each_bias_value + each_SubOutput_value)\n",
    "        \n",
    "    return Output"
   ]
  },
  {
   "cell_type": "code",
   "execution_count": 16,
   "metadata": {
    "collapsed": true
   },
   "outputs": [],
   "source": [
    "#  Accepts a Whole Image Set, stride count and Whole Filter Set Returns List of Convuled Matrices AND List of Outputs \n",
    "##  - Multiplies each mini-image of a sub-image with mini-filter of sub-filter\n",
    "\n",
    "def convulation_3d(image, stride, filters):\n",
    "    \n",
    "    ## For storing Convoled Matrices\n",
    "    list_each_convoled_features = []\n",
    "    list_per_Filter = []\n",
    "    list_per_SET = []\n",
    "    \n",
    "    ## For Storing Outputs\n",
    "    output_per_ImageFilterSet = []\n",
    "    Total_output =[]\n",
    "    \n",
    "    image_size = len(image)\n",
    "    filters_size = len(filters)\n",
    "    \n",
    "    for k in range(image_size):\n",
    "        for i in range(filters_size):\n",
    "            \n",
    "            Output_size = Traversal_Counter(len(image[0][0]), len(filters[0]), stride)\n",
    "            output_sum = np.zeros((Output_size, Output_size))\n",
    "            \n",
    "            for j in range(len(filters[0])):\n",
    "                ## Contains element-wise matrix multiplication of Each(SubImage*SubFilter, e.g. Image[0][0]*Filter[0][0])\n",
    "                Each_SubFilter_Each_SubImage = np.array(image_patching(image[k][j], stride, filters[i][j]))\n",
    "                \n",
    "                ## List of Each Convoled Feature\n",
    "                list_each_convoled_features.append(Each_SubFilter_Each_SubImage)\n",
    "                \n",
    "                ## Contains summed ouput of one SubImage and one SubFilter (e.g. SUM(Image[0][0,1,2]*Filter[0][0,1,2])\n",
    "                output_sum += Each_SubFilter_Each_SubImage \n",
    "            \n",
    "            list_per_Filter.append(list_each_convoled_features)\n",
    "            list_each_convoled_features = []\n",
    "            output_per_ImageFilterSet.append(output_sum)\n",
    "        \n",
    "        \n",
    "        # Storing Convoled Features\n",
    "        list_per_SET.append(list_per_Filter)\n",
    "        list_per_Filter = []\n",
    "       \n",
    "        # Storing Total Outputs\n",
    "        Total_output.append(bias_addition(output_per_ImageFilterSet))\n",
    "        output_per_ImageFilterSet = []\n",
    "        \n",
    "    return list_per_SET, Total_output"
   ]
  },
  {
   "cell_type": "code",
   "execution_count": 17,
   "metadata": {
    "collapsed": true
   },
   "outputs": [],
   "source": [
    "#  Returns Convuled Matrices\n",
    "\n",
    "def convulation_matrices():\n",
    "    return convulation_3d(image, 2, filters)[0]"
   ]
  },
  {
   "cell_type": "code",
   "execution_count": 18,
   "metadata": {
    "collapsed": true
   },
   "outputs": [],
   "source": [
    "#  Accepts a Input Image Set, Input Stride count and Input Filter Set\n",
    "##  - Prints the Result\n",
    "\n",
    "def output(image, stride, filters):\n",
    "    \n",
    "    ## Contains the list of output matrices\n",
    "    output = convulation_3d(image, stride, filters)[1]\n",
    "    \n",
    "    index = 0\n",
    "    print(\"**********************************************************\\nOUTPUT MATRICES \\n**********************************************************\\n\")\n",
    "    for i in range(len(image)):\n",
    "        for j in range(len(filters)):\n",
    "            print('- IMAGE:', i, ', Filter:', j, \"\\n\", output[i][j], \"\\n\")\n",
    "            index+=1\n",
    "        print(\"<-------------------------------------------------------------------->\\n\\n\")"
   ]
  },
  {
   "cell_type": "code",
   "execution_count": 19,
   "metadata": {
    "scrolled": false
   },
   "outputs": [
    {
     "name": "stdout",
     "output_type": "stream",
     "text": [
      "**********************************************************\n",
      "OUTPUT MATRICES \n",
      "**********************************************************\n",
      "\n",
      "- IMAGE: 0 , Filter: 0 \n",
      " [[ 0. -5. -6.]\n",
      " [-8. -3. -3.]\n",
      " [-5. -2. -4.]] \n",
      "\n",
      "- IMAGE: 0 , Filter: 1 \n",
      " [[ 6. -4.  3.]\n",
      " [ 5.  5.  4.]\n",
      " [ 4.  8.  1.]] \n",
      "\n",
      "<-------------------------------------------------------------------->\n",
      "\n",
      "\n",
      "- IMAGE: 1 , Filter: 0 \n",
      " [[ -7.  -6.  -9.]\n",
      " [ -5.   2.  -5.]\n",
      " [ -4. -10.   1.]] \n",
      "\n",
      "- IMAGE: 1 , Filter: 1 \n",
      " [[-1.  4. -1.]\n",
      " [ 9.  4.  9.]\n",
      " [ 1.  3.  5.]] \n",
      "\n",
      "<-------------------------------------------------------------------->\n",
      "\n",
      "\n"
     ]
    }
   ],
   "source": [
    "# ENTER YOUR IMAGE SET, STRIDE COUNT AND FILTER SET HERE!\n",
    "output(image, 2, filters)"
   ]
  },
  {
   "cell_type": "markdown",
   "metadata": {},
   "source": [
    "-----------"
   ]
  },
  {
   "cell_type": "markdown",
   "metadata": {},
   "source": [
    "## Pooling Layers\n",
    "\n",
    "* Pooling works very much like convoluting, where we take a kernel and move the kernel over the image, the only difference is the function that is applied to the kernel and the image window isn’t linear.\n",
    "\n",
    "* Max pooling and Average pooling are the most common pooling functions. \n",
    "\n",
    "* Max pooling takes the largest value from the window of the image currently covered by the kernel, while average pooling takes the average of all values in the window."
   ]
  },
  {
   "cell_type": "markdown",
   "metadata": {},
   "source": [
    "![Pooling Gif](./pooling.gif)"
   ]
  },
  {
   "cell_type": "markdown",
   "metadata": {},
   "source": [
    "## Level - 2 - Code the Pooling Layer"
   ]
  },
  {
   "cell_type": "markdown",
   "metadata": {},
   "source": [
    "![Detailed Conv Gif](./Max_pooling.png)"
   ]
  },
  {
   "cell_type": "markdown",
   "metadata": {},
   "source": [
    "### Question 1"
   ]
  },
  {
   "cell_type": "code",
   "execution_count": 24,
   "metadata": {
    "collapsed": true
   },
   "outputs": [],
   "source": [
    "# Write a function which does the max pooling.\n",
    "# Code for a 3d Matrix\n",
    "# Before writing out code, write function header with parameters and get it reviewed by Mentors"
   ]
  },
  {
   "cell_type": "code",
   "execution_count": 25,
   "metadata": {},
   "outputs": [
    {
     "data": {
      "text/plain": [
       "[array([[-1, -1],\n",
       "        [ 0,  0]]), array([[3, 0],\n",
       "        [1, 1]]), array([[-1, -1],\n",
       "        [-1, -1]]), array([[5, 5],\n",
       "        [7, 7]]), array([[ 1, -1],\n",
       "        [ 1,  0]]), array([[4, 5],\n",
       "        [4, 4]]), array([[-1, -1],\n",
       "        [-1,  1]]), array([[4, 4],\n",
       "        [4, 4]]), array([[-1, -2],\n",
       "        [-1, -2]]), array([[9, 3],\n",
       "        [9, 6]]), array([[-2, -2],\n",
       "        [-2, -2]]), array([[4, 7],\n",
       "        [3, 7]])]"
      ]
     },
     "execution_count": 25,
     "metadata": {},
     "output_type": "execute_result"
    }
   ],
   "source": [
    "''' ENTER TYPE OF POOLING(Max OR Avg) and Filteration Size(1,2,3, etc)'''\n",
    "\n",
    "Pooling_Matrices('Max', 2)"
   ]
  },
  {
   "cell_type": "markdown",
   "metadata": {},
   "source": [
    "### Question 2"
   ]
  },
  {
   "cell_type": "code",
   "execution_count": 26,
   "metadata": {
    "scrolled": true
   },
   "outputs": [
    {
     "data": {
      "text/plain": [
       "[array([[-1.5 , -2.  ],\n",
       "        [-1.25, -0.75]]), array([[-0.5 , -0.75],\n",
       "        [-0.5 , -0.5 ]]), array([[-3.  , -2.5 ],\n",
       "        [-3.75, -2.75]]), array([[ 2.  ,  1.75],\n",
       "        [ 3.75,  4.25]]), array([[-1.  , -2.  ],\n",
       "        [-1.25, -1.75]]), array([[ 1.  ,  1.25],\n",
       "        [ 2.  ,  1.  ]]), array([[-1.75, -1.75],\n",
       "        [-2.25, -1.  ]]), array([[-0.25, -0.25],\n",
       "        [ 0.25,  1.  ]]), array([[-3.  , -3.5 ],\n",
       "        [-3.25, -4.  ]]), array([[ 3.5 ,  2.25],\n",
       "        [ 4.75,  3.5 ]]), array([[-3.  , -3.  ],\n",
       "        [-2.75, -2.25]]), array([[ 2.5 ,  3.75],\n",
       "        [ 1.25,  3.  ]])]"
      ]
     },
     "execution_count": 26,
     "metadata": {},
     "output_type": "execute_result"
    }
   ],
   "source": [
    "Pooling_Matrices('Avg',2)"
   ]
  },
  {
   "cell_type": "code",
   "execution_count": 22,
   "metadata": {
    "collapsed": true
   },
   "outputs": [],
   "source": [
    "# Accepts Type_Pooling = (Max OR Avg); Filteration_size = Type of Traversal which determines Output_Matrix Size (e.g. 2 at a time, thus 2x2 Output mtrix)\n",
    "## Returns a List of Pooled Matrices\n",
    "\n",
    "def Pooling_Matrices(Type_Pooling, Filteration_size):\n",
    "    \n",
    "    list_convuled_matrices = convulation_matrices()\n",
    "    list_pooled_matrices = []\n",
    "    \n",
    "    for Sub_Imagefeature in list_convuled_matrices:\n",
    "        for each_feature in Sub_Imagefeature:\n",
    "            for eachMatrix_each_feature in each_feature:\n",
    "            \n",
    "                list_pooled_matrices.append(np.array(Pooling_Operation(eachMatrix_each_feature, Type_Pooling, Filteration_size)))\n",
    "                \n",
    "    return(list_pooled_matrices)"
   ]
  },
  {
   "cell_type": "code",
   "execution_count": 23,
   "metadata": {
    "collapsed": true
   },
   "outputs": [],
   "source": [
    "def Pooling_Operation(eachMatrix_each_feature, Type_Pooling, Filteration_size):\n",
    "    \n",
    "    list_of_sub_matrices = mini_image(eachMatrix_each_feature, Filteration_size, 1) \n",
    "    \n",
    "    list_of_values = []\n",
    "    Convert_Into_Matrix = []\n",
    "    \n",
    "    if Type_Pooling == 'Max':\n",
    "        ## Stores list of all MAX POOLED values in an linear array\n",
    "        for each_mini_image in list_of_sub_matrices:\n",
    "            list_of_values.append(each_mini_image.max())\n",
    "    elif Type_Pooling == 'Avg':\n",
    "        ## Stores list of all AVG POOLED values in an linear array\n",
    "        for each_mini_image in list_of_sub_matrices:\n",
    "            list_of_values.append(each_mini_image.mean())\n",
    "               \n",
    "    ## Converts a array of values in SizeGiven Matrices\n",
    "    for each_value in range(0,len(list_of_values), Filteration_size):\n",
    "        Convert_Into_Matrix.append([value for value in list_of_values[each_value:each_value+int(2)]])\n",
    "    \n",
    "    return Convert_Into_Matrix"
   ]
  },
  {
   "cell_type": "markdown",
   "metadata": {},
   "source": [
    ".\n",
    "\n",
    ".\n",
    "\n",
    "."
   ]
  },
  {
   "cell_type": "markdown",
   "metadata": {},
   "source": [
    "# Lets Load an image and visualize the Conv and Pool"
   ]
  },
  {
   "cell_type": "markdown",
   "metadata": {},
   "source": [
    "### Load the Conv and Max pool using Keras"
   ]
  },
  {
   "cell_type": "code",
   "execution_count": 27,
   "metadata": {},
   "outputs": [
    {
     "ename": "ModuleNotFoundError",
     "evalue": "No module named 'cv2'",
     "output_type": "error",
     "traceback": [
      "\u001b[0;31m---------------------------------------------------------------------------\u001b[0m",
      "\u001b[0;31mModuleNotFoundError\u001b[0m                       Traceback (most recent call last)",
      "\u001b[0;32m<ipython-input-27-dcad2f93696a>\u001b[0m in \u001b[0;36m<module>\u001b[0;34m()\u001b[0m\n\u001b[1;32m      5\u001b[0m \u001b[0;32mimport\u001b[0m \u001b[0mnumpy\u001b[0m \u001b[0;32mas\u001b[0m \u001b[0mnp\u001b[0m\u001b[0;34m\u001b[0m\u001b[0m\n\u001b[1;32m      6\u001b[0m \u001b[0;32mimport\u001b[0m \u001b[0mmatplotlib\u001b[0m\u001b[0;34m.\u001b[0m\u001b[0mpyplot\u001b[0m \u001b[0;32mas\u001b[0m \u001b[0mplt\u001b[0m\u001b[0;34m\u001b[0m\u001b[0m\n\u001b[0;32m----> 7\u001b[0;31m \u001b[0;32mimport\u001b[0m \u001b[0mcv2\u001b[0m  \u001b[0;31m# only used for loading the image, you can use anything that returns the image as a np.ndarray\u001b[0m\u001b[0;34m\u001b[0m\u001b[0m\n\u001b[0m\u001b[1;32m      8\u001b[0m \u001b[0;34m\u001b[0m\u001b[0m\n\u001b[1;32m      9\u001b[0m \u001b[0mget_ipython\u001b[0m\u001b[0;34m(\u001b[0m\u001b[0;34m)\u001b[0m\u001b[0;34m.\u001b[0m\u001b[0mmagic\u001b[0m\u001b[0;34m(\u001b[0m\u001b[0;34m'matplotlib inline'\u001b[0m\u001b[0;34m)\u001b[0m\u001b[0;34m\u001b[0m\u001b[0m\n",
      "\u001b[0;31mModuleNotFoundError\u001b[0m: No module named 'cv2'"
     ]
    }
   ],
   "source": [
    "from keras.layers import Convolution2D, MaxPooling2D, Activation\n",
    "from keras.models import Sequential\n",
    "\n",
    "import numpy as np\n",
    "import matplotlib.pyplot as plt\n",
    "import cv2  # only used for loading the image, you can use anything that returns the image as a np.ndarray\n",
    "\n",
    "%matplotlib inline"
   ]
  },
  {
   "cell_type": "markdown",
   "metadata": {},
   "source": [
    "### Display the image"
   ]
  },
  {
   "cell_type": "code",
   "execution_count": 28,
   "metadata": {},
   "outputs": [
    {
     "ename": "NameError",
     "evalue": "name 'cv2' is not defined",
     "output_type": "error",
     "traceback": [
      "\u001b[0;31m---------------------------------------------------------------------------\u001b[0m",
      "\u001b[0;31mNameError\u001b[0m                                 Traceback (most recent call last)",
      "\u001b[0;32m<ipython-input-28-6b1669593559>\u001b[0m in \u001b[0;36m<module>\u001b[0;34m()\u001b[0m\n\u001b[0;32m----> 1\u001b[0;31m \u001b[0mimage\u001b[0m \u001b[0;34m=\u001b[0m \u001b[0mcv2\u001b[0m\u001b[0;34m.\u001b[0m\u001b[0mimread\u001b[0m\u001b[0;34m(\u001b[0m\u001b[0;34m'beer.png'\u001b[0m\u001b[0;34m)\u001b[0m \u001b[0;31m# Please load different Images to explore\u001b[0m\u001b[0;34m\u001b[0m\u001b[0m\n\u001b[0m",
      "\u001b[0;31mNameError\u001b[0m: name 'cv2' is not defined"
     ]
    }
   ],
   "source": [
    "image = cv2.imread('beer.png') # Please load different Images to explore "
   ]
  },
  {
   "cell_type": "code",
   "execution_count": null,
   "metadata": {
    "collapsed": true
   },
   "outputs": [],
   "source": [
    "plt.imshow(image)"
   ]
  },
  {
   "cell_type": "code",
   "execution_count": null,
   "metadata": {
    "collapsed": true
   },
   "outputs": [],
   "source": [
    "# what does the image look like?\n",
    "image.shape"
   ]
  },
  {
   "cell_type": "markdown",
   "metadata": {},
   "source": [
    "## Level 3 - Performing and Understading Convolutions "
   ]
  },
  {
   "cell_type": "markdown",
   "metadata": {},
   "source": [
    "### Question 1 "
   ]
  },
  {
   "cell_type": "markdown",
   "metadata": {},
   "source": [
    "### Why it has 3 dimensions ?? "
   ]
  },
  {
   "cell_type": "markdown",
   "metadata": {},
   "source": [
    "Answer - "
   ]
  },
  {
   "cell_type": "markdown",
   "metadata": {},
   "source": [
    "## Play Around with below code to enhance your understanding of CNN"
   ]
  },
  {
   "cell_type": "markdown",
   "metadata": {},
   "source": [
    "## Lets create a model with 1 Convolutional layer"
   ]
  },
  {
   "cell_type": "markdown",
   "metadata": {},
   "source": [
    "### Question 2"
   ]
  },
  {
   "cell_type": "markdown",
   "metadata": {},
   "source": [
    "### Please fill in the comments "
   ]
  },
  {
   "cell_type": "code",
   "execution_count": null,
   "metadata": {
    "collapsed": true
   },
   "outputs": [],
   "source": [
    "model = Sequential()\n",
    "model.add(Convolution2D(3,    # number of ____________\n",
    "                        (3,    # ___________ dimension of kernel \n",
    "                        3),    # ___________ dimension of kernel\n",
    "                        input_shape=image.shape))"
   ]
  },
  {
   "cell_type": "code",
   "execution_count": null,
   "metadata": {
    "collapsed": true
   },
   "outputs": [],
   "source": [
    "image_batch = np.expand_dims(image,axis=0)"
   ]
  },
  {
   "cell_type": "markdown",
   "metadata": {},
   "source": [
    "### Question 3"
   ]
  },
  {
   "cell_type": "markdown",
   "metadata": {},
   "source": [
    "### What Happens if we dont expand the dims of image ? Why we need to do it ?\n"
   ]
  },
  {
   "cell_type": "markdown",
   "metadata": {},
   "source": [
    "Answer -"
   ]
  },
  {
   "cell_type": "code",
   "execution_count": null,
   "metadata": {
    "collapsed": true
   },
   "outputs": [],
   "source": [
    "image_batch.shape"
   ]
  },
  {
   "cell_type": "code",
   "execution_count": null,
   "metadata": {
    "collapsed": true
   },
   "outputs": [],
   "source": [
    "conv_image = model.predict(image_batch)"
   ]
  },
  {
   "cell_type": "code",
   "execution_count": null,
   "metadata": {
    "collapsed": true
   },
   "outputs": [],
   "source": [
    "plt.imshow(np.squeeze(conv_image, axis=0))"
   ]
  },
  {
   "cell_type": "code",
   "execution_count": null,
   "metadata": {
    "collapsed": true
   },
   "outputs": [],
   "source": [
    "def visualize_image(model, image):\n",
    "\n",
    "    image_batch = np.expand_dims(image,axis=0)\n",
    "    conv_image = model.predict(image_batch)\n",
    "    \n",
    "    # here we get rid of that added dimension and plot the image\n",
    "    conv_image = np.squeeze(conv_image, axis=0)\n",
    "    \n",
    "    print (conv_image.shape)\n",
    "    plt.imshow(conv_image)"
   ]
  },
  {
   "cell_type": "code",
   "execution_count": null,
   "metadata": {
    "collapsed": true
   },
   "outputs": [],
   "source": [
    "visualize_image(model, image)"
   ]
  },
  {
   "cell_type": "markdown",
   "metadata": {},
   "source": [
    "## Level 4 - Use Your Conv Function to visualize the image"
   ]
  },
  {
   "cell_type": "markdown",
   "metadata": {},
   "source": [
    "### Question 1 - Call your function to perform conv and plot the image obatined "
   ]
  },
  {
   "cell_type": "markdown",
   "metadata": {},
   "source": [
    "## 10x10 Kernel Convimage"
   ]
  },
  {
   "cell_type": "code",
   "execution_count": null,
   "metadata": {
    "collapsed": true
   },
   "outputs": [],
   "source": [
    "model = Sequential()\n",
    "model.add(Convolution2D(3,    \n",
    "                        (10,    \n",
    "                        10),    \n",
    "                        input_shape=image.shape))\n",
    "\n",
    "\n",
    "visualize_image(model, image)"
   ]
  },
  {
   "cell_type": "markdown",
   "metadata": {},
   "source": [
    "## Level 5"
   ]
  },
  {
   "cell_type": "markdown",
   "metadata": {},
   "source": [
    "### Question 1"
   ]
  },
  {
   "cell_type": "markdown",
   "metadata": {},
   "source": [
    "### What difference you notice between 3\\*3 and 10\\*10 kernal size ? "
   ]
  },
  {
   "cell_type": "markdown",
   "metadata": {},
   "source": [
    "Answer - "
   ]
  },
  {
   "cell_type": "markdown",
   "metadata": {},
   "source": [
    "### Question 2"
   ]
  },
  {
   "cell_type": "markdown",
   "metadata": {},
   "source": [
    "### What is the reason behing this difference ?"
   ]
  },
  {
   "cell_type": "markdown",
   "metadata": {},
   "source": [
    "Answer -"
   ]
  },
  {
   "cell_type": "markdown",
   "metadata": {},
   "source": [
    "# Play around with code below, to enhance your understading"
   ]
  },
  {
   "cell_type": "markdown",
   "metadata": {},
   "source": [
    "## Another image Vis "
   ]
  },
  {
   "cell_type": "code",
   "execution_count": null,
   "metadata": {
    "collapsed": true
   },
   "outputs": [],
   "source": [
    "# Note: matplot lib is pretty inconsistent with how it plots these weird image arrays.\n",
    "\n",
    "def nice_image_printer(model, image):\n",
    "    '''prints the image as a 2d array'''\n",
    "    image_batch = np.expand_dims(image,axis=0)\n",
    "    conv_image2 = model.predict(image_batch)\n",
    "\n",
    "    conv_image2 = np.squeeze(conv_image2, axis=0)\n",
    "    print (conv_image2.shape)\n",
    "    conv_image2 = conv_image2.reshape(conv_image2.shape[:2])\n",
    "\n",
    "    print (conv_image2.shape)\n",
    "    plt.imshow(conv_image2)"
   ]
  },
  {
   "cell_type": "code",
   "execution_count": null,
   "metadata": {
    "collapsed": true
   },
   "outputs": [],
   "source": [
    "model = Sequential()\n",
    "model.add(Convolution2D(1,    \n",
    "                        (3,    \n",
    "                        3),    \n",
    "                        input_shape=image.shape))"
   ]
  },
  {
   "cell_type": "code",
   "execution_count": null,
   "metadata": {
    "collapsed": true
   },
   "outputs": [],
   "source": [
    "nice_image_printer(model, image)"
   ]
  },
  {
   "cell_type": "markdown",
   "metadata": {},
   "source": [
    "### Question 3"
   ]
  },
  {
   "cell_type": "markdown",
   "metadata": {},
   "source": [
    "### Why this image is different from previous one ?"
   ]
  },
  {
   "cell_type": "markdown",
   "metadata": {},
   "source": [
    "Answer"
   ]
  },
  {
   "cell_type": "markdown",
   "metadata": {},
   "source": [
    "## Increase the kernal size"
   ]
  },
  {
   "cell_type": "code",
   "execution_count": null,
   "metadata": {
    "collapsed": true
   },
   "outputs": [],
   "source": [
    "# 15x15 kernel size\n",
    "model = Sequential()\n",
    "model.add(Convolution2D(1,    \n",
    "                        (15,    \n",
    "                        15),   \n",
    "                        input_shape=image.shape))\n",
    "\n",
    "nice_image_printer(model, image)"
   ]
  },
  {
   "cell_type": "markdown",
   "metadata": {},
   "source": [
    "## Adding a Relu Activation"
   ]
  },
  {
   "cell_type": "code",
   "execution_count": null,
   "metadata": {
    "collapsed": true
   },
   "outputs": [],
   "source": [
    "model = Sequential()\n",
    "model.add(Convolution2D(1,    \n",
    "                        (3,    \n",
    "                        3),    \n",
    "                        input_shape=image.shape))\n",
    "# Lets add a new activation layer!\n",
    "model.add(Activation('relu'))\n",
    "\n"
   ]
  },
  {
   "cell_type": "code",
   "execution_count": null,
   "metadata": {
    "collapsed": true
   },
   "outputs": [],
   "source": [
    "nice_image_printer(model, image)"
   ]
  },
  {
   "cell_type": "markdown",
   "metadata": {},
   "source": [
    "## Adding a Max pool After Relu"
   ]
  },
  {
   "cell_type": "code",
   "execution_count": null,
   "metadata": {
    "collapsed": true
   },
   "outputs": [],
   "source": [
    "model = Sequential()\n",
    "model.add(Convolution2D(3,    \n",
    "                        (3,    \n",
    "                        3),    \n",
    "                        input_shape=image.shape))\n",
    "model.add(Activation('relu'))\n",
    "model.add(MaxPooling2D(pool_size=(5,5)))\n",
    "\n",
    "visualize_image(model, image)"
   ]
  },
  {
   "cell_type": "code",
   "execution_count": null,
   "metadata": {
    "collapsed": true
   },
   "outputs": [],
   "source": []
  }
 ],
 "metadata": {
  "kernelspec": {
   "display_name": "Python 3",
   "language": "python",
   "name": "python3"
  },
  "language_info": {
   "codemirror_mode": {
    "name": "ipython",
    "version": 3
   },
   "file_extension": ".py",
   "mimetype": "text/x-python",
   "name": "python",
   "nbconvert_exporter": "python",
   "pygments_lexer": "ipython3",
   "version": "3.6.0"
  }
 },
 "nbformat": 4,
 "nbformat_minor": 2
}
